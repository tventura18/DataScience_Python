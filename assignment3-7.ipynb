{
 "cells": [
  {
   "cell_type": "markdown",
   "metadata": {
    "nbgrader": {
     "grade": false,
     "grade_id": "cell-100f4129570db3cb",
     "locked": true,
     "schema_version": 3,
     "solution": false,
     "task": false
    }
   },
   "source": [
    "# Assignment 3 - Building a Custom Visualization\n",
    "\n",
    "In this assignment you must choose __one__ of the options presented below and submit a visual as well as your source code for peer grading. The details of how you solve the assignment are up to you, although your assignment must use matplotlib so that your peers can evaluate your work. The options differ in challenge level, but there are no grades associated with the challenge level you chose. However, your peers will be asked to ensure you at least met a minimum quality for a given technique in order to pass. Implement the technique fully (or exceed it!) and you should be able to earn full grades for the assignment.\n",
    "\n",
    "Ferreira, N., Fisher, D., & Konig, A. C. (2014, April). [Sample-oriented task-driven visualizations: allowing users to make better, more confident decisions.](https://www.microsoft.com/en-us/research/wp-content/uploads/2016/02/Ferreira_Fisher_Sample_Oriented_Tasks.pdf) \n",
    "&nbsp;&nbsp;&nbsp;&nbsp;&nbsp;&nbsp;In Proceedings of the SIGCHI Conference on Human Factors in Computing Systems (pp. 571-580). ACM. ([video](https://www.youtube.com/watch?v=BI7GAs-va-Q))\n",
    "\n",
    "In this [paper](https://www.microsoft.com/en-us/research/wp-content/uploads/2016/02/Ferreira_Fisher_Sample_Oriented_Tasks.pdf) the authors describe the challenges users face when trying to make judgements about probabilistic data generated through samples. As an example, they look at a bar chart of four years of data (replicated below in Figure 1). Each year has a y-axis value, which is derived from a sample of a larger dataset. For instance, the first value might be the number votes in a given district or riding for 1992, with the average being around 33,000. On top of this is plotted the 95% confidence interval for the mean (see the boxplot lectures for more information, and the yerr parameter of barcharts).\n",
    "\n",
    "<br>\n",
    "<img src=\"assets/Assignment3Fig1.png\" alt=\"Figure 1\" style=\"width: 400px;\"/>\n",
    "<h4 style=\"text-align: center;\" markdown=\"1\">  &nbsp;&nbsp;&nbsp;&nbsp;&nbsp;&nbsp;&nbsp;&nbsp;Figure 1 from (Ferreira et al, 2014).</h4>\n",
    "\n",
    "<br>\n",
    "\n",
    "A challenge that users face is that, for a given y-axis value (e.g. 42,000), it is difficult to know which x-axis values are most likely to be representative, because the confidence levels overlap and their distributions are different (the lengths of the confidence interval bars are unequal). One of the solutions the authors propose for this problem (Figure 2c) is to allow users to indicate the y-axis value of interest (e.g. 42,000) and then draw a horizontal line and color bars based on this value. So bars might be colored red if they are definitely above this value (given the confidence interval), blue if they are definitely below this value, or white if they contain this value.\n",
    "\n",
    "\n",
    "<br>\n",
    "<img src=\"assets/Assignment3Fig2c.png\" alt=\"Figure 1\" style=\"width: 400px;\"/>\n",
    "<h4 style=\"text-align: center;\" markdown=\"1\">  Figure 2c from (Ferreira et al. 2014). Note that the colorbar legend at the bottom as well as the arrows are not required in the assignment descriptions below.</h4>\n",
    "\n",
    "<br>\n",
    "<br>\n",
    "\n",
    "**Easiest option:** Implement the bar coloring as described above - a color scale with at least three colors, (e.g. blue, white, and red). Assume the user provides the y axis value of interest as a parameter or variable.\n",
    "\n",
    "**Harder option:** Implement the bar coloring as described in the paper, where the color of the bar is actually based on the amount of data covered (e.g. a gradient ranging from dark blue for the distribution being certainly below this y-axis, to white if the value is certainly contained, to dark red if the value is certainly not contained as the distribution is above the axis).\n",
    "\n",
    "**Even Harder option:** Add interactivity to the above, which allows the user to click on the y axis to set the value of interest. The bar colors should change with respect to what value the user has selected.\n",
    "\n",
    "**Hardest option:** Allow the user to interactively set a range of y values they are interested in, and recolor based on this (e.g. a y-axis band, see the paper for more details).\n",
    "\n",
    "---\n",
    "\n",
    "*Note: The data given for this assignment is not the same as the data used in the article and as a result the visualizations may look a little different.*"
   ]
  },
  {
   "cell_type": "code",
   "execution_count": 27,
   "metadata": {},
   "outputs": [
    {
     "data": {
      "image/png": "[encoded data removed]",
      "text/plain": [
       "<Figure size 864x720 with 2 Axes>"
      ]
     },
     "metadata": {
      "needs_background": "light"
     },
     "output_type": "display_data"
    },
    {
     "data": {
      "text/plain": [
       "<Figure size 432x288 with 0 Axes>"
      ]
     },
     "metadata": {},
     "output_type": "display_data"
    }
   ],
   "source": [
    "import pandas as pd\n",
    "import numpy as np\n",
    "import matplotlib.pyplot as plt\n",
    "import matplotlib.cm as cm\n",
    "\n",
    "## DataFrame df with 3650 samples for each of the four years (1992 to 1995) \n",
    "## generated from normal distributions with different means and standard deviations\n",
    "## The first argument the mean (center) of the normal distribution.\n",
    "## The second argument is the std (spread or width) of the normal distribution.\n",
    "## The third argument is the number of samples to generate from the normal distribution. \n",
    "mean1992 = 32000\n",
    "mean1993 = 43000\n",
    "mean1994 = 43500\n",
    "mean1995 = 48000\n",
    "\n",
    "sample_means1992 = [np.random.normal(mean1992, 200000, 3650).mean() for _ in range(1000)]\n",
    "sample_means1993 = [np.random.normal(mean1993,100000,3650).mean() for _ in range(1000)]\n",
    "sample_means1994 = [np.random.normal(mean1994,140000,3650).mean() for _ in range(1000)]\n",
    "sample_means1995 = [np.random.normal(mean1995,70000,3650).mean() for _ in range(1000)]\n",
    "\n",
    "#mySample_means1993 = pd.Series(sample_means1993) \n",
    "#print(sample_means)\n",
    "# Create DataFrame with a custom index\n",
    "\n",
    "df_means = pd.DataFrame({'1992': sample_means1992})\n",
    "df_means['1993'] = sample_means1993\n",
    "df_means['1994'] = sample_means1994\n",
    "df_means['1995'] = sample_means1995\n",
    "\n",
    "#print(df_means)\n",
    "\n",
    "#std_w_axis = df_means.std(axis = 0)\n",
    "std_1992 = df_means['1992'].std(axis = 0)\n",
    "std_1993 = df_means['1993'].std(axis = 0)\n",
    "std_1994 = df_means['1994'].std(axis = 0)\n",
    "std_1995 = df_means['1995'].std(axis = 0)\n",
    "#print(std_1992)\n",
    "#print(std_1993)\n",
    "#print(std_1994)\n",
    "#print(std_1995)\n",
    "\n",
    "years = ['1992','1993', '1994', '1995']\n",
    "means_4yrs = [mean1992, mean1993, mean1994, mean1995]\n",
    "std_4yrs = [std_1992, std_1993, std_1994, std_1995]\n",
    "\n",
    "\n",
    "plt.figure(figsize=(12,10))\n",
    "\n",
    "plt.xlabel('Year')\n",
    "\n",
    "plt.xlabel('Year')\n",
    "plt.ylabel('Mean Value')\n",
    "plt.title('Bar Plot with Custom Colors')\n",
    "\n",
    "# Define custom colormap from blue to red\n",
    "cmap = cm.bwr\n",
    "\n",
    "# Normalize the data to the range [0, 1]\n",
    "norm = plt.Normalize(vmin = min(means_4yrs), vmax = max(means_4yrs))\n",
    "colors = [cmap(norm(mean)) for mean in means_4yrs]\n",
    "plt.bar(years, means_4yrs, yerr = std_4yrs, capsize = 8, color = colors)\n",
    "\n",
    "# Create ScalarMappable\n",
    "sm = cm.ScalarMappable(cmap=cmap, norm=norm)\n",
    "\n",
    "# Set the range of values for the colormap\n",
    "sm.set_array([])\n",
    "\n",
    "# Plot the colorbar\n",
    "plt.colorbar(sm, ticks=[0, 1], label='Mean Value')\n",
    "\n",
    "plt.axhline(y = 42000, color ='black', linestyle='--', linewidth=2)\n",
    "\n",
    "plt.grid(axis='both', which='both', visible=False)  # Disable grid \n",
    "\n",
    "# Show the plot\n",
    "# Iterate over each bar to add text above the error bars\n",
    "for i in range(len(years)):\n",
    "    plt.text(i, means_4yrs[i] + std_4yrs[i] + 1000, f'{means_4yrs[i]}', ha='center', va='bottom', fontsize = 10)\n",
    "plt.yticks([42000])\n",
    "plt.show()\n",
    "plt.savefig('Assignment3.png')\n",
    "\n",
    "#def update_colors(value_of_interest):\n",
    "#    norm = plt.Normalize(vmin=min(means_4yrs), vmax=max(means_4yrs))\n",
    "#    colors = [cmap(norm(mean)) for mean in means_4yrs]\n",
    "#    for bar, color in zip(bars, colors):\n",
    "#        bar.set_color(color)\n",
    "#    fig.canvas.draw()\n",
    "    \n",
    "#def on_yaxis_click(event):\n",
    "#    if event.inaxes == ax.yaxis:\n",
    "#        value_of_interest = event.ydata\n",
    "#        update_colors(value_of_interest)"
   ]
  }
 ],
 "metadata": {
  "celltoolbar": "Create Assignment",
  "kernelspec": {
   "display_name": "Python 3 (ipykernel)",
   "language": "python",
   "name": "python3"
  },
  "language_info": {
   "codemirror_mode": {
    "name": "ipython",
    "version": 3
   },
   "file_extension": ".py",
   "mimetype": "text/x-python",
   "name": "python",
   "nbconvert_exporter": "python",
   "pygments_lexer": "ipython3",
   "version": "3.8.10"
  },
  "vscode": {
   "interpreter": {
    "hash": "aee8b7b246df8f9039afb4144a1f6fd8d2ca17a180786b69acc140d282b71a49"
   }
  }
 },
 "nbformat": 4,
 "nbformat_minor": 4
}
